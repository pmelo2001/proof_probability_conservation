{
 "cells": [
  {
   "cell_type": "markdown",
   "id": "dea15027-923e-4434-9814-36f6d698754f",
   "metadata": {},
   "source": [
    "# Proof of Conservation of Probability in Klein-Gordon's Equation Using Noether's Theorem"
   ]
  },
  {
   "cell_type": "markdown",
   "id": "cd8c4167-9230-4051-b052-0776e2e9c62a",
   "metadata": {},
   "source": [
    "Klein-Gordon's Equation is normally written as\n",
    "$$(\\partial^\\mu\\partial_\\mu+m^2)\\psi=0$$\n",
    "\n",
    "And for that reason, the simplest lagrangian that gets us this equation is\n",
    "$$\\mathcal{L} = \\frac{1}{2}\\partial_\\mu\\psi\\partial^\\mu\\psi-\\frac{1}{2}m^2\\psi^2$$\n",
    "\n",
    "This lagrangian is invariant under the transformation $\\psi\\to-\\psi$, but sadly this is not a continuous transformation and Noether's Theorem does not apply. However, there is an oversight to Klein-Gordon's equation that helps construct a better lagrangian for our purposes. $\\psi$ is a complex function, therefore, our lagrangian has not one but two independent fields: $\\text{Re}\\;\\psi$ and $\\text{Im}\\;\\psi$. Let us then make a slight change of notation and treat $\\psi$ as a 2-vector $\\psi = (\\psi_1,\\psi_2)$, where $\\psi_1=\\text{Re}\\;\\psi$ and $\\psi_2 = \\text{Im}\\;\\psi$. Naturally, under this notation, our lagrangian will also be a 2-vector $\\mathcal{L}=(\\mathcal{L}_1,\\mathcal{L}_2)$. Our original equation can now be split into a sistem of equations:\n",
    "\n",
    "$$(\\partial^\\mu\\partial_\\mu+m^2)\\psi_1=0\\\\(\\partial^\\mu\\partial_\\mu+m^2)\\psi_2=0$$\n",
    "\n",
    "Now, we make the transformation of variables $(\\psi_1,\\psi_2)\\to(\\psi,\\psi^*)$:\n",
    "\n",
    "$$\\frac{1}{2}[(\\partial^\\mu\\partial_\\mu+m^2)\\psi+(\\partial^\\mu\\partial_\\mu+m^2)\\psi^*]=0\\\\\\frac{1}{2i}[(\\partial^\\mu\\partial_\\mu+m^2)\\psi-(\\partial^\\mu\\partial_\\mu+m^2)\\psi^*]=0$$\n",
    "\n",
    "Which are equivalent to\n",
    "\n",
    "$$(\\partial^\\mu\\partial_\\mu+m^2)\\psi+(\\partial^\\mu\\partial_\\mu+m^2)\\psi^*=0\\\\(\\partial^\\mu\\partial_\\mu+m^2)\\psi-(\\partial^\\mu\\partial_\\mu+m^2)\\psi^*=0$$\n",
    "\n",
    "This means that\n",
    "\n",
    "$$\\mathcal{L}_1 (\\psi,\\psi^*)= \\partial_\\mu\\psi^*\\partial^\\mu\\psi-m^2\\psi\\psi^*$$\n",
    "\n",
    "And we have neglected to obtain $\\mathcal{L}_2$ because it is unimportant.\n",
    "\n",
    "Noether's Theorem can be written as this: let there be continuous transformations $\\psi^\\mu\\to\\psi'^\\mu=\\psi^\\mu+\\epsilon(\\mu)\\delta\\psi^\\mu+O(\\epsilon(\\mu)^2)$ such that the lagrangian is invariant $\\delta\\mathcal{L}=0$ then\n",
    "\n",
    "$$0=\\partial_\\mu\\left[\\frac{\\partial{\\mathcal{L}}}{\\partial(\\partial_\\mu\\psi^\\nu)}\\delta\\psi^\\nu\\right]$$\n",
    "\n",
    "But there is a stronger form of this theorem that we will use. It is trivial to prove, but it will be crucial: say now we perform the same transformation on the lagrangian, but only the real (or imaginary) part is invariant, that is $\\delta(\\text{Re}\\;\\mathcal{L})=0$. Then:\n",
    "\n",
    "$$0=\\partial_\\mu\\left[\\frac{\\partial{(\\text{Re}\\;\\mathcal{L})}}{\\partial(\\partial_\\mu\\psi^\\nu)}\\delta\\psi^\\nu\\right]$$\n",
    "\n",
    "Now, it is easy to see that by performing the transformations $\\psi\\to e^{i\\epsilon}\\psi = \\psi(1+i\\epsilon+ O((i\\epsilon)^2))=\\psi +\\epsilon(i\\psi)+O(\\epsilon^2)$ and $\\psi^*\\to e^{i(-\\epsilon)}\\psi^*$ (that is, $\\delta\\psi = i\\psi$ and $\\delta\\psi^*=-i\\psi^*$) to the lagrangian $\\mathcal{L}_1$, it does not vary, that is $\\delta\\mathcal{L}_1=0$. Well, by definition $\\mathcal{L}_1 = \\text{Re}\\;\\mathcal{L}$, so we can use the stronger form of Noether's Theorem: \n",
    "\n",
    "$$0=\\partial_\\mu\\left[\\frac{\\partial{\\mathcal{L}_1}}{\\partial(\\partial_\\mu\\psi)}\\delta\\psi+\\frac{\\partial{\\mathcal{L}_1}}{\\partial(\\partial_\\mu\\psi^*)}\\delta\\psi^*\\right]\\\\ \\implies 0=\\partial_\\mu\\left[i\\psi\\partial^\\mu\\psi^*-i\\psi^*\\partial^\\mu\\psi\\right]\\\\ \\implies \\int \\partial_t(i\\psi\\partial_t\\psi^*-i\\psi^*\\partial_t\\psi)d^3 x = -\\int \\nabla\\cdot(i\\psi\\nabla\\psi^*-i\\psi^*\\nabla\\psi)d^3x \\\\ \\implies \\frac{d}{dt}\\int \\psi\\psi^*d^3x = -\\oint (\\psi\\nabla\\psi^*-\\psi^*\\nabla\\psi)\\cdot \\textbf{n}d\\Sigma = 0  $$\n",
    "\n",
    "q.e.d\n"
   ]
  }
 ],
 "metadata": {
  "kernelspec": {
   "display_name": "SageMath 9.5",
   "language": "sage",
   "name": "sagemath"
  },
  "language_info": {
   "codemirror_mode": {
    "name": "ipython",
    "version": 3
   },
   "file_extension": ".py",
   "mimetype": "text/x-python",
   "name": "python",
   "nbconvert_exporter": "python",
   "pygments_lexer": "ipython3",
   "version": "3.10.12"
  }
 },
 "nbformat": 4,
 "nbformat_minor": 5
}
